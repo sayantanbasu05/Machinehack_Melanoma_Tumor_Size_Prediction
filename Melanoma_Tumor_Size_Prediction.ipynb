{
  "nbformat": 4,
  "nbformat_minor": 0,
  "metadata": {
    "colab": {
      "name": "Melanoma_Tumor_Size_Prediction.ipynb",
      "provenance": []
    },
    "kernelspec": {
      "name": "python3",
      "display_name": "Python 3"
    },
    "accelerator": "GPU"
  },
  "cells": [
    {
      "cell_type": "code",
      "metadata": {
        "id": "FKhkxCPyaBCY",
        "colab_type": "code",
        "colab": {
          "base_uri": "https://localhost:8080/",
          "height": 343
        },
        "outputId": "6d2bb425-3051-4724-d9f6-6c8e3830dad8"
      },
      "source": [
        "pip install catboost"
      ],
      "execution_count": null,
      "outputs": [
        {
          "output_type": "stream",
          "text": [
            "Collecting catboost\n",
            "\u001b[?25l  Downloading https://files.pythonhosted.org/packages/96/6c/6608210b29649267de52001b09e369777ee2a5cfe1c71fa75eba82a4f2dc/catboost-0.24-cp36-none-manylinux1_x86_64.whl (65.9MB)\n",
            "\u001b[K     |████████████████████████████████| 65.9MB 44kB/s \n",
            "\u001b[?25hRequirement already satisfied: six in /usr/local/lib/python3.6/dist-packages (from catboost) (1.15.0)\n",
            "Requirement already satisfied: pandas>=0.24.0 in /usr/local/lib/python3.6/dist-packages (from catboost) (1.0.5)\n",
            "Requirement already satisfied: numpy>=1.16.0 in /usr/local/lib/python3.6/dist-packages (from catboost) (1.18.5)\n",
            "Requirement already satisfied: matplotlib in /usr/local/lib/python3.6/dist-packages (from catboost) (3.2.2)\n",
            "Requirement already satisfied: plotly in /usr/local/lib/python3.6/dist-packages (from catboost) (4.4.1)\n",
            "Requirement already satisfied: scipy in /usr/local/lib/python3.6/dist-packages (from catboost) (1.4.1)\n",
            "Requirement already satisfied: graphviz in /usr/local/lib/python3.6/dist-packages (from catboost) (0.10.1)\n",
            "Requirement already satisfied: pytz>=2017.2 in /usr/local/lib/python3.6/dist-packages (from pandas>=0.24.0->catboost) (2018.9)\n",
            "Requirement already satisfied: python-dateutil>=2.6.1 in /usr/local/lib/python3.6/dist-packages (from pandas>=0.24.0->catboost) (2.8.1)\n",
            "Requirement already satisfied: kiwisolver>=1.0.1 in /usr/local/lib/python3.6/dist-packages (from matplotlib->catboost) (1.2.0)\n",
            "Requirement already satisfied: cycler>=0.10 in /usr/local/lib/python3.6/dist-packages (from matplotlib->catboost) (0.10.0)\n",
            "Requirement already satisfied: pyparsing!=2.0.4,!=2.1.2,!=2.1.6,>=2.0.1 in /usr/local/lib/python3.6/dist-packages (from matplotlib->catboost) (2.4.7)\n",
            "Requirement already satisfied: retrying>=1.3.3 in /usr/local/lib/python3.6/dist-packages (from plotly->catboost) (1.3.3)\n",
            "Installing collected packages: catboost\n",
            "Successfully installed catboost-0.24\n"
          ],
          "name": "stdout"
        }
      ]
    },
    {
      "cell_type": "code",
      "metadata": {
        "id": "FIELNq7_cBQA",
        "colab_type": "code",
        "colab": {}
      },
      "source": [
        "#imports\n",
        "import pandas as pd\n",
        "import numpy as np\n",
        "from xgboost import XGBClassifier, XGBRegressor\n",
        "from sklearn.model_selection import train_test_split\n",
        "from sklearn.model_selection import train_test_split, KFold, StratifiedKFold\n",
        "from sklearn.metrics import accuracy_score\n",
        "from sklearn.ensemble import RandomForestClassifier\n",
        "from sklearn.linear_model import LogisticRegression\n",
        "from lightgbm import LGBMClassifier, LGBMRegressor\n",
        "from catboost import CatBoostClassifier, CatBoostRegressor\n",
        "import numpy as np\n",
        "import sklearn \n",
        "from sklearn.ensemble import ExtraTreesRegressor, ExtraTreesClassifier\n",
        "from sklearn.tree import DecisionTreeClassifier, DecisionTreeRegressor"
      ],
      "execution_count": null,
      "outputs": []
    },
    {
      "cell_type": "code",
      "metadata": {
        "id": "OfhgaaGaY6NY",
        "colab_type": "code",
        "colab": {}
      },
      "source": [
        "df_train = pd.read_csv('Train.csv')\n",
        "df_test = pd.read_csv('Test.csv')"
      ],
      "execution_count": null,
      "outputs": []
    },
    {
      "cell_type": "code",
      "metadata": {
        "id": "Z-KFxTPuWaZk",
        "colab_type": "code",
        "colab": {}
      },
      "source": [
        "#removing rows with 0 values in tumor size\n",
        "df_train = df_train[df_train['tumor_size']!=0]"
      ],
      "execution_count": null,
      "outputs": []
    },
    {
      "cell_type": "markdown",
      "metadata": {
        "id": "fVK7yjRryuZz",
        "colab_type": "text"
      },
      "source": [
        "Feature engineering"
      ]
    },
    {
      "cell_type": "code",
      "metadata": {
        "id": "cPB9lCY6lYLC",
        "colab_type": "code",
        "colab": {}
      },
      "source": [
        "df_train['total_estimated_samples'] =  (df_train['err_malign'] / df_train['std_dev_malign'])  \n",
        "df_train['size_ratio_interaction'] = df_train['damage_size'] * df_train['damage_ratio']\n",
        "df_train['damaged_area'] = df_train['size_npear'] / df_train['damage_size']\n",
        "df_train['sorted_interaction'] = df_train['malign_penalty'] * df_train['damage_ratio']\n",
        "df_train['exposed_are_per_unit_mass'] = df_train['exposed_area'] / df_train['mass_npea']\n",
        "df_train['feat_1'] = df_train['malign_penalty'] * df_train['mass_npea']\n",
        "df_train['tumor_area'] = df_train['exposed_area'] - df_train['damage_size']\n",
        "df_train['skin_spread'] = df_train['tumor_area'] / df_train['damage_ratio']\n",
        "df_train['tumor_mass'] = df_train['tumor_area'] * df_train['mass_npea'] / df_train['size_npear']\n",
        "df_train[\"Malign_skin_size\"] = (np.log(df_train[\"size_npear\"])/(df_train[\"malign_ratio\"]+1))+df_train[\"std_dev_malign\"]-(df_train[\"err_malign\"]/(df_train[\"malign_penalty\"]+1))                                  \n",
        "df_train['sum_of_values_minus_mean'] = df_train['std_dev_malign']  * df_train['err_malign']\n",
        "df_train['variance'] = np.sqrt(df_train['std_dev_malign'] )\n",
        "\n",
        "\n",
        "#test\n",
        "df_test['total_estimated_samples'] =   df_test['err_malign'] / df_test['std_dev_malign'] \n",
        "df_test['size_ratio_interaction'] = df_test['damage_size'] * df_test['damage_ratio']\n",
        "df_test['damaged_area'] = df_test['size_npear'] / df_test['damage_size']\n",
        "df_test['sorted_interaction'] = df_test['malign_penalty'] * df_test['damage_ratio']\n",
        "df_test['exposed_are_per_unit_mass'] = df_test['exposed_area'] / df_test['mass_npea']\n",
        "df_test['feat_1'] = df_test['malign_penalty'] * df_test['mass_npea']\n",
        "df_test['tumor_area'] = df_test['exposed_area'] - df_test['damage_size']\n",
        "df_test['skin_spread'] = df_test['tumor_area'] / df_test['damage_ratio']\n",
        "df_test['tumor_mass'] = df_test['tumor_area'] * df_test['mass_npea'] / df_test['size_npear']\n",
        "df_test[\"Malign_skin_size\"] = (np.log(df_test[\"size_npear\"])/(df_test[\"malign_ratio\"]+1))+df_test[\"std_dev_malign\"]-(df_test[\"err_malign\"]/(df_test[\"malign_penalty\"]+1))\n",
        "df_test['sum_of_values_minus_mean'] = df_test['std_dev_malign']  * df_test['err_malign']\n",
        "df_test['variance'] = np.sqrt(df_test['std_dev_malign'] )"
      ],
      "execution_count": null,
      "outputs": []
    },
    {
      "cell_type": "code",
      "metadata": {
        "id": "hQfA8wRpZIfr",
        "colab_type": "code",
        "colab": {}
      },
      "source": [
        "\n",
        " \n",
        "X_train, Y = df_train.drop(['malign_ratio','exposed_area',\"tumor_size\"], axis=1).values, df_train[\"tumor_size\"].values\n",
        "X_test = df_test.drop(['malign_ratio','exposed_area'], axis=1).values"
      ],
      "execution_count": null,
      "outputs": []
    },
    {
      "cell_type": "code",
      "metadata": {
        "id": "mpc18BvmZl4q",
        "colab_type": "code",
        "colab": {}
      },
      "source": [
        "kfold, scores = KFold(n_splits=5, shuffle=True, random_state=0), list()\n",
        "for training, testing in kfold.split(X_train):\n",
        "    x_train, x_test = X_train[training], X_train[testing]\n",
        "    y_train, y_test = Y[training], Y[testing]\n",
        "    model = CatBoostRegressor( random_state=27,n_estimators=4000,task_type=\"GPU\",devices=\"0:1\",boosting_type=\"Plain\",\n",
        "                              verbose=500,max_depth=13,learning_rate=0.09)\n",
        "    model.fit(x_train, y_train)\n",
        "    preds = model.predict(x_test)\n",
        "    for i in range(len(preds)):\n",
        "      if preds[i]<0:\n",
        "        preds[i] = 0\n",
        "\n",
        "    score = np.sqrt(sklearn.metrics.mean_squared_error(y_test, preds))\n",
        "    scores.append(score)\n",
        "    print(score)\n",
        "print(\"Average: \", sum(scores)/len(scores))"
      ],
      "execution_count": null,
      "outputs": []
    },
    {
      "cell_type": "code",
      "metadata": {
        "id": "h-Oc3fddZwHF",
        "colab_type": "code",
        "colab": {
          "base_uri": "https://localhost:8080/",
          "height": 609
        },
        "outputId": "8d345b20-bf95-4378-871b-572e7248a592"
      },
      "source": [
        "feat_imp = pd.Series(model.feature_importances_, index=df_train.drop(['malign_ratio','exposed_area',\"tumor_size\"], axis=1).columns)\n",
        "feat_imp.nlargest(30).plot(kind='barh', figsize=(8,10))"
      ],
      "execution_count": null,
      "outputs": [
        {
          "output_type": "execute_result",
          "data": {
            "text/plain": [
              "<matplotlib.axes._subplots.AxesSubplot at 0x7f3c0afb68d0>"
            ]
          },
          "metadata": {
            "tags": []
          },
          "execution_count": 84
        },
        {
          "output_type": "display_data",
          "data": {
            "image/png": "[encoded data removed]",
            "text/plain": [
              "<Figure size 576x720 with 1 Axes>"
            ]
          },
          "metadata": {
            "tags": [],
            "needs_background": "light"
          }
        }
      ]
    },
    {
      "cell_type": "code",
      "metadata": {
        "id": "7mHHEOV52H8n",
        "colab_type": "code",
        "colab": {
          "base_uri": "https://localhost:8080/",
          "height": 1000
        },
        "outputId": "99ac210d-1e04-4b67-eaea-f8e930885d61"
      },
      "source": [
        "i=0\n",
        "setused=X_train\n",
        "targ=Y\n",
        "\n",
        "scores=[]\n",
        "splits=15\n",
        "\n",
        "cnf_matrix=[]\n",
        "oof_preds = np.zeros((len(X_test)))\n",
        "kfold, scores = KFold(n_splits=splits,random_state=True), list()\n",
        "for train2, test2 in kfold.split(setused,targ):\n",
        "    x_train, x_test = setused[train2], setused[test2]\n",
        "    y_train, y_test = targ[train2], targ[test2]\n",
        "    eval_set = [(x_test,y_test)]\n",
        "    model = CatBoostRegressor( random_state=27,n_estimators=4000,task_type=\"GPU\",devices=\"0:1\",boosting_type=\"Plain\",\n",
        "                              verbose=500,max_depth=13,learning_rate=0.09)\n",
        "\n",
        "    model.fit(x_train, y_train)\n",
        "    preds = model.predict(x_test)\n",
        "    score = np.sqrt(sklearn.metrics.mean_squared_error(y_test, preds))\n",
        "    scores.append(score)\n",
        "    print(score)\n",
        "    oof_preds += model.predict(X_test)\n",
        "oof_preds = oof_preds/splits\n",
        "\n",
        "print(\"Average: \", np.sum(scores)/len(scores))"
      ],
      "execution_count": null,
      "outputs": [
        {
          "output_type": "stream",
          "text": [
            "/usr/local/lib/python3.6/dist-packages/sklearn/model_selection/_split.py:296: FutureWarning: Setting a random_state has no effect since shuffle is False. This will raise an error in 0.24. You should leave random_state to its default (None), or set shuffle=True.\n",
            "  FutureWarning\n"
          ],
          "name": "stderr"
        },
        {
          "output_type": "stream",
          "text": [
            "0:\tlearn: 5.8765020\ttotal: 67.7ms\tremaining: 4m 30s\n",
            "500:\tlearn: 0.9697585\ttotal: 15.7s\tremaining: 1m 49s\n",
            "1000:\tlearn: 0.4171791\ttotal: 31s\tremaining: 1m 32s\n",
            "1500:\tlearn: 0.2248679\ttotal: 46.4s\tremaining: 1m 17s\n",
            "2000:\tlearn: 0.1475683\ttotal: 1m 1s\tremaining: 1m 1s\n",
            "2500:\tlearn: 0.1075849\ttotal: 1m 17s\tremaining: 46.4s\n",
            "3000:\tlearn: 0.0930660\ttotal: 1m 32s\tremaining: 30.9s\n",
            "3500:\tlearn: 0.0859986\ttotal: 1m 48s\tremaining: 15.5s\n",
            "3999:\tlearn: 0.0835664\ttotal: 2m 4s\tremaining: 0us\n",
            "3.458426859567924\n",
            "0:\tlearn: 5.8748075\ttotal: 68.2ms\tremaining: 4m 32s\n",
            "500:\tlearn: 0.9634021\ttotal: 16.3s\tremaining: 1m 53s\n",
            "1000:\tlearn: 0.4517803\ttotal: 32.3s\tremaining: 1m 36s\n",
            "1500:\tlearn: 0.2366471\ttotal: 48.3s\tremaining: 1m 20s\n",
            "2000:\tlearn: 0.1574900\ttotal: 1m 4s\tremaining: 1m 4s\n",
            "2500:\tlearn: 0.1121495\ttotal: 1m 20s\tremaining: 48.2s\n",
            "3000:\tlearn: 0.0947931\ttotal: 1m 36s\tremaining: 32.1s\n",
            "3500:\tlearn: 0.0872461\ttotal: 1m 52s\tremaining: 16s\n",
            "3999:\tlearn: 0.0840423\ttotal: 2m 7s\tremaining: 0us\n",
            "3.5951476416465296\n",
            "0:\tlearn: 5.8699160\ttotal: 67.4ms\tremaining: 4m 29s\n",
            "500:\tlearn: 0.9676310\ttotal: 16.2s\tremaining: 1m 52s\n",
            "1000:\tlearn: 0.4098734\ttotal: 32.3s\tremaining: 1m 36s\n",
            "1500:\tlearn: 0.2152778\ttotal: 48.4s\tremaining: 1m 20s\n",
            "2000:\tlearn: 0.1364557\ttotal: 1m 4s\tremaining: 1m 4s\n",
            "2500:\tlearn: 0.1025512\ttotal: 1m 20s\tremaining: 48.2s\n",
            "3000:\tlearn: 0.0893982\ttotal: 1m 36s\tremaining: 32.1s\n",
            "3500:\tlearn: 0.0843652\ttotal: 1m 52s\tremaining: 16s\n",
            "3999:\tlearn: 0.0825997\ttotal: 2m 8s\tremaining: 0us\n",
            "3.5121981880708972\n",
            "0:\tlearn: 5.8702084\ttotal: 67.5ms\tremaining: 4m 29s\n",
            "500:\tlearn: 0.9824102\ttotal: 16.1s\tremaining: 1m 52s\n",
            "1000:\tlearn: 0.4122104\ttotal: 32.2s\tremaining: 1m 36s\n",
            "1500:\tlearn: 0.2195012\ttotal: 48.1s\tremaining: 1m 20s\n",
            "2000:\tlearn: 0.1386214\ttotal: 1m 4s\tremaining: 1m 3s\n",
            "2500:\tlearn: 0.1020206\ttotal: 1m 20s\tremaining: 48.1s\n",
            "3000:\tlearn: 0.0894644\ttotal: 1m 36s\tremaining: 32s\n",
            "3500:\tlearn: 0.0849240\ttotal: 1m 51s\tremaining: 16s\n",
            "3999:\tlearn: 0.0827902\ttotal: 2m 7s\tremaining: 0us\n",
            "3.298674154800902\n",
            "0:\tlearn: 5.8793448\ttotal: 68.3ms\tremaining: 4m 33s\n",
            "500:\tlearn: 0.9700007\ttotal: 16.1s\tremaining: 1m 52s\n",
            "1000:\tlearn: 0.4294203\ttotal: 32.1s\tremaining: 1m 36s\n",
            "1500:\tlearn: 0.2298742\ttotal: 48.1s\tremaining: 1m 20s\n",
            "2000:\tlearn: 0.1421770\ttotal: 1m 3s\tremaining: 1m 3s\n",
            "2500:\tlearn: 0.1052717\ttotal: 1m 20s\tremaining: 48.1s\n",
            "3000:\tlearn: 0.0903906\ttotal: 1m 36s\tremaining: 32s\n",
            "3500:\tlearn: 0.0852867\ttotal: 1m 52s\tremaining: 16s\n",
            "3999:\tlearn: 0.0830181\ttotal: 2m 7s\tremaining: 0us\n",
            "3.612743564150327\n",
            "0:\tlearn: 5.8706466\ttotal: 70.1ms\tremaining: 4m 40s\n",
            "500:\tlearn: 0.9637588\ttotal: 16.1s\tremaining: 1m 52s\n",
            "1000:\tlearn: 0.3949947\ttotal: 32.3s\tremaining: 1m 36s\n",
            "1500:\tlearn: 0.2067122\ttotal: 48.3s\tremaining: 1m 20s\n",
            "2000:\tlearn: 0.1287110\ttotal: 1m 4s\tremaining: 1m 4s\n",
            "2500:\tlearn: 0.0981900\ttotal: 1m 20s\tremaining: 48.2s\n",
            "3000:\tlearn: 0.0875970\ttotal: 1m 36s\tremaining: 32.1s\n",
            "3500:\tlearn: 0.0837599\ttotal: 1m 52s\tremaining: 16s\n",
            "3999:\tlearn: 0.0822778\ttotal: 2m 8s\tremaining: 0us\n",
            "3.5979855491556383\n",
            "0:\tlearn: 5.8800652\ttotal: 77.5ms\tremaining: 5m 9s\n",
            "500:\tlearn: 0.9763679\ttotal: 16.1s\tremaining: 1m 52s\n",
            "1000:\tlearn: 0.3976623\ttotal: 32.2s\tremaining: 1m 36s\n",
            "1500:\tlearn: 0.2019753\ttotal: 48.2s\tremaining: 1m 20s\n",
            "2000:\tlearn: 0.1084645\ttotal: 1m 4s\tremaining: 1m 4s\n",
            "2500:\tlearn: 0.0647789\ttotal: 1m 20s\tremaining: 48.1s\n",
            "3000:\tlearn: 0.0437573\ttotal: 1m 36s\tremaining: 32s\n",
            "3500:\tlearn: 0.0284207\ttotal: 1m 51s\tremaining: 15.9s\n",
            "3999:\tlearn: 0.0200764\ttotal: 2m 7s\tremaining: 0us\n",
            "3.6343240681912707\n",
            "0:\tlearn: 5.8738447\ttotal: 76.2ms\tremaining: 5m 4s\n",
            "500:\tlearn: 0.9684187\ttotal: 16.1s\tremaining: 1m 52s\n",
            "1000:\tlearn: 0.4111826\ttotal: 32.2s\tremaining: 1m 36s\n",
            "1500:\tlearn: 0.2117898\ttotal: 48.2s\tremaining: 1m 20s\n",
            "2000:\tlearn: 0.1316392\ttotal: 1m 4s\tremaining: 1m 4s\n",
            "2500:\tlearn: 0.1006685\ttotal: 1m 20s\tremaining: 48.1s\n",
            "3000:\tlearn: 0.0887332\ttotal: 1m 36s\tremaining: 32s\n",
            "3500:\tlearn: 0.0841021\ttotal: 1m 52s\tremaining: 16s\n",
            "3999:\tlearn: 0.0825034\ttotal: 2m 7s\tremaining: 0us\n",
            "3.843290105352149\n",
            "0:\tlearn: 5.8715545\ttotal: 67.4ms\tremaining: 4m 29s\n",
            "500:\tlearn: 0.9735271\ttotal: 16.1s\tremaining: 1m 52s\n",
            "1000:\tlearn: 0.4034216\ttotal: 32.2s\tremaining: 1m 36s\n",
            "1500:\tlearn: 0.1962305\ttotal: 48.3s\tremaining: 1m 20s\n",
            "2000:\tlearn: 0.1140546\ttotal: 1m 4s\tremaining: 1m 4s\n",
            "2500:\tlearn: 0.0653189\ttotal: 1m 20s\tremaining: 48.1s\n",
            "3000:\tlearn: 0.0408847\ttotal: 1m 36s\tremaining: 32s\n",
            "3500:\tlearn: 0.0287441\ttotal: 1m 52s\tremaining: 16s\n",
            "3999:\tlearn: 0.0221412\ttotal: 2m 7s\tremaining: 0us\n",
            "3.804394645139028\n",
            "0:\tlearn: 5.8736541\ttotal: 68ms\tremaining: 4m 31s\n",
            "500:\tlearn: 0.9705023\ttotal: 16.3s\tremaining: 1m 53s\n",
            "1000:\tlearn: 0.4116036\ttotal: 32.4s\tremaining: 1m 37s\n",
            "1500:\tlearn: 0.2233703\ttotal: 48.6s\tremaining: 1m 20s\n",
            "2000:\tlearn: 0.1420577\ttotal: 1m 4s\tremaining: 1m 4s\n",
            "2500:\tlearn: 0.1019101\ttotal: 1m 20s\tremaining: 48.5s\n",
            "3000:\tlearn: 0.0887936\ttotal: 1m 36s\tremaining: 32.2s\n",
            "3500:\tlearn: 0.0843522\ttotal: 1m 52s\tremaining: 16.1s\n",
            "3999:\tlearn: 0.0826446\ttotal: 2m 8s\tremaining: 0us\n",
            "3.8492846371144185\n",
            "0:\tlearn: 5.8636244\ttotal: 68.5ms\tremaining: 4m 33s\n",
            "500:\tlearn: 0.9845609\ttotal: 16.1s\tremaining: 1m 52s\n",
            "1000:\tlearn: 0.3939439\ttotal: 32.2s\tremaining: 1m 36s\n",
            "1500:\tlearn: 0.2110254\ttotal: 48.2s\tremaining: 1m 20s\n",
            "2000:\tlearn: 0.1313480\ttotal: 1m 4s\tremaining: 1m 3s\n",
            "2500:\tlearn: 0.1040933\ttotal: 1m 20s\tremaining: 48s\n",
            "3000:\tlearn: 0.0913604\ttotal: 1m 35s\tremaining: 31.9s\n",
            "3500:\tlearn: 0.0858028\ttotal: 1m 51s\tremaining: 15.9s\n",
            "3999:\tlearn: 0.0839065\ttotal: 2m 7s\tremaining: 0us\n",
            "3.7536517673915006\n",
            "0:\tlearn: 5.8721150\ttotal: 67.6ms\tremaining: 4m 30s\n",
            "500:\tlearn: 0.9747504\ttotal: 16.1s\tremaining: 1m 52s\n",
            "1000:\tlearn: 0.4396777\ttotal: 32.1s\tremaining: 1m 36s\n",
            "1500:\tlearn: 0.2396629\ttotal: 48s\tremaining: 1m 19s\n",
            "2000:\tlearn: 0.1459193\ttotal: 1m 3s\tremaining: 1m 3s\n",
            "2500:\tlearn: 0.1075933\ttotal: 1m 20s\tremaining: 48s\n",
            "3000:\tlearn: 0.0915618\ttotal: 1m 36s\tremaining: 32s\n",
            "3500:\tlearn: 0.0864242\ttotal: 1m 51s\tremaining: 16s\n",
            "3999:\tlearn: 0.0838750\ttotal: 2m 7s\tremaining: 0us\n",
            "3.7375607897241947\n",
            "0:\tlearn: 5.8683228\ttotal: 67.6ms\tremaining: 4m 30s\n",
            "500:\tlearn: 0.9794319\ttotal: 16.2s\tremaining: 1m 53s\n",
            "1000:\tlearn: 0.4191270\ttotal: 32.3s\tremaining: 1m 36s\n",
            "1500:\tlearn: 0.2219679\ttotal: 48.3s\tremaining: 1m 20s\n",
            "2000:\tlearn: 0.1355220\ttotal: 1m 4s\tremaining: 1m 4s\n",
            "2500:\tlearn: 0.1009936\ttotal: 1m 20s\tremaining: 48.2s\n",
            "3000:\tlearn: 0.0898953\ttotal: 1m 36s\tremaining: 32s\n",
            "3500:\tlearn: 0.0851834\ttotal: 1m 52s\tremaining: 16s\n",
            "3999:\tlearn: 0.0832564\ttotal: 2m 7s\tremaining: 0us\n",
            "3.7641000564276754\n",
            "0:\tlearn: 5.8851267\ttotal: 67.1ms\tremaining: 4m 28s\n",
            "500:\tlearn: 1.0077718\ttotal: 16.1s\tremaining: 1m 52s\n",
            "1000:\tlearn: 0.4288724\ttotal: 32.2s\tremaining: 1m 36s\n",
            "1500:\tlearn: 0.2385285\ttotal: 48.1s\tremaining: 1m 20s\n",
            "2000:\tlearn: 0.1498226\ttotal: 1m 3s\tremaining: 1m 3s\n",
            "2500:\tlearn: 0.1143584\ttotal: 1m 20s\tremaining: 48s\n",
            "3000:\tlearn: 0.0938768\ttotal: 1m 36s\tremaining: 32s\n",
            "3500:\tlearn: 0.0864208\ttotal: 1m 51s\tremaining: 16s\n",
            "3999:\tlearn: 0.0838032\ttotal: 2m 7s\tremaining: 0us\n",
            "3.4335288148376386\n",
            "0:\tlearn: 5.8733571\ttotal: 67.4ms\tremaining: 4m 29s\n",
            "500:\tlearn: 0.9829065\ttotal: 16.2s\tremaining: 1m 52s\n",
            "1000:\tlearn: 0.3870365\ttotal: 32.3s\tremaining: 1m 36s\n",
            "1500:\tlearn: 0.1908431\ttotal: 48.3s\tremaining: 1m 20s\n",
            "2000:\tlearn: 0.1204930\ttotal: 1m 4s\tremaining: 1m 4s\n",
            "2500:\tlearn: 0.0940589\ttotal: 1m 20s\tremaining: 48.3s\n",
            "3000:\tlearn: 0.0859774\ttotal: 1m 36s\tremaining: 32.1s\n",
            "3500:\tlearn: 0.0830452\ttotal: 1m 52s\tremaining: 16s\n",
            "3999:\tlearn: 0.0821940\ttotal: 2m 8s\tremaining: 0us\n",
            "3.7820964982108594\n",
            "Average:  3.6451604893187297\n"
          ],
          "name": "stdout"
        }
      ]
    },
    {
      "cell_type": "code",
      "metadata": {
        "id": "zJUlA4dDeUYF",
        "colab_type": "code",
        "colab": {}
      },
      "source": [
        "#post processing\n",
        "#copying duplicate values from train to test\n",
        "\n",
        "preds = oof_preds\n",
        "for i in range(len(preds)):\n",
        "  if preds[i]<0:\n",
        "    preds[i] = 0\n",
        "\n",
        "df_train['key'] = df_train['mass_npea'].astype(str) + \"_\" + df_train['size_npear'].astype(str) + \"_\" + df_train['malign_ratio'].astype(str)\n",
        "df_test['key'] = df_test['mass_npea'].astype(str) + \"_\" + df_test['size_npear'].astype(str) + \"_\" + df_test['malign_ratio'].astype(str)\n",
        "\n",
        "map_key ={}\n",
        "\n",
        "key = df_train['key'].values\n",
        "tumor = df_train['tumor_size'].values\n",
        "\n",
        "for i in range(len(key)):\n",
        "  map_key[key[i]] = tumor[i]\n",
        "\n",
        "key = df_test['key'].values\n",
        "\n",
        "for i in range(len(key)):\n",
        "  if key[i] in map_key:\n",
        "    preds[i] = map_key[key[i]]\n",
        "\n",
        "\n",
        "df_submit = pd.DataFrame({'tumor_size': preds})\n",
        "df_submit.to_excel(\"submit_cb_oof.xlsx\", index=False)\n"
      ],
      "execution_count": null,
      "outputs": []
    }
  ]
}